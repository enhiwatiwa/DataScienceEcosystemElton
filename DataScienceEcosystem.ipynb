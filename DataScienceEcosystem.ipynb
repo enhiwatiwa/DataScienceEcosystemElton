{
 "cells": [
  {
   "cell_type": "markdown",
   "id": "25c1d3f0-a7fb-4bc5-8b4c-91764019a2e7",
   "metadata": {},
   "source": [
    "# Data Science Tools and Ecosystem"
   ]
  },
  {
   "cell_type": "markdown",
   "id": "7b4272d0-e01a-48ae-b539-0fde34a608f3",
   "metadata": {},
   "source": [
    "In this notebook, Data Science Tools and Ecosystem are summarized."
   ]
  },
  {
   "cell_type": "markdown",
   "id": "47dda88e-f574-4c2c-8801-3b7f911174b9",
   "metadata": {},
   "source": [
    "**Objectives**:\n",
    "+ List of Popular Languages used by Data Scientists\n",
    "+ List of Libraries\n",
    "+ Data Science Tools List\n"
   ]
  },
  {
   "cell_type": "markdown",
   "id": "eb1254b2-2be8-4903-9c82-db7221a9e603",
   "metadata": {},
   "source": [
    "Some of the popular languages that Data Scientists use are:\n",
    "1. R\n",
    "2. Python\n",
    "3. SQL"
   ]
  },
  {
   "cell_type": "markdown",
   "id": "59e708df-a820-4b91-85ba-72cd6f40a477",
   "metadata": {},
   "source": []
  },
  {
   "cell_type": "markdown",
   "id": "48071c26-e90d-4d3b-930e-d71e75b0180a",
   "metadata": {},
   "source": [
    "Some of the commonly used libraries used by Data Scientists include:\n",
    "1. Numpy\n",
    "2. Pandas\n",
    "3. Scipy"
   ]
  },
  {
   "cell_type": "markdown",
   "id": "f44943b6-1854-419a-92aa-1ea8a012da63",
   "metadata": {},
   "source": [
    "|Data Science Tools|\n",
    "|------------------|\n",
    "|Apache Hadoop|\n",
    "|Apache Spark|\n",
    "|Apache Flink|"
   ]
  },
  {
   "cell_type": "markdown",
   "id": "997c8e37-2e5f-4821-b187-f872b6983534",
   "metadata": {},
   "source": [
    "### Below are a few examples of evaluating arithmetic expressions in Python"
   ]
  },
  {
   "cell_type": "code",
   "execution_count": null,
   "id": "03330f4c-1b9d-4aa0-857c-4c40376f158c",
   "metadata": {},
   "outputs": [],
   "source": [
    "#This a simple arithmetic expression to mutiply then add integers"
   ]
  },
  {
   "cell_type": "code",
   "execution_count": 11,
   "id": "e3f6b851-998e-4c02-9f63-13d73dbb8ea5",
   "metadata": {},
   "outputs": [
    {
     "data": {
      "text/plain": [
       "17"
      ]
     },
     "execution_count": 11,
     "metadata": {},
     "output_type": "execute_result"
    }
   ],
   "source": [
    "(3*4)+5"
   ]
  },
  {
   "cell_type": "code",
   "execution_count": 23,
   "id": "2a5f12a3-5a1e-41e2-8d5e-db74809698e7",
   "metadata": {},
   "outputs": [
    {
     "name": "stdout",
     "output_type": "stream",
     "text": [
      "3.3333333333333335\n"
     ]
    }
   ],
   "source": [
    "#This will convert 200 minutes to hours by diving by 60\n",
    "Minutes = 200\n",
    "Hour = 60\n",
    "Convert = (Minutes/Hour)\n",
    "print(Convert)"
   ]
  },
  {
   "cell_type": "markdown",
   "id": "f82b40e5-0a5a-47ec-9cd0-31bfeb08d125",
   "metadata": {},
   "source": [
    "## Author\n",
    "Elton Nhiwatiwa"
   ]
  },
  {
   "cell_type": "code",
   "execution_count": null,
   "id": "cae48c1d-d2af-49c4-add0-4a32472f3c6d",
   "metadata": {},
   "outputs": [],
   "source": []
  }
 ],
 "metadata": {
  "kernelspec": {
   "display_name": "Python 3 (ipykernel)",
   "language": "python",
   "name": "python3"
  },
  "language_info": {
   "codemirror_mode": {
    "name": "ipython",
    "version": 3
   },
   "file_extension": ".py",
   "mimetype": "text/x-python",
   "name": "python",
   "nbconvert_exporter": "python",
   "pygments_lexer": "ipython3",
   "version": "3.12.4"
  }
 },
 "nbformat": 4,
 "nbformat_minor": 5
}
